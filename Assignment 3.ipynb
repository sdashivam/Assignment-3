{
 "cells": [
  {
   "cell_type": "code",
   "execution_count": 41,
   "metadata": {},
   "outputs": [
    {
     "name": "stdout",
     "output_type": "stream",
     "text": [
      "137\n"
     ]
    }
   ],
   "source": [
    "## myreduce() function\n",
    "\n",
    "lst = [10,15,12,13,17,19,16,22,13]\n",
    "\n",
    "def myreduce(add,lst):\n",
    "    return a\n",
    "a = lst[0]\n",
    "\n",
    "def add(a,b):\n",
    "    return a+b\n",
    "\n",
    "for i in range(1,len(lst)):\n",
    "        b = lst[i]\n",
    "        a = add(a,b)\n",
    "        \n",
    "print(myreduce(add,lst))"
   ]
  },
  {
   "cell_type": "code",
   "execution_count": 30,
   "metadata": {},
   "outputs": [],
   "source": [
    "## myfilter() function\n",
    "\n",
    "def myfilter(lst):\n",
    "    return [i for i in lst \n",
    "            if i%2!=0]"
   ]
  },
  {
   "cell_type": "code",
   "execution_count": 40,
   "metadata": {},
   "outputs": [
    {
     "data": {
      "text/plain": [
       "[13, 23, 17, 19]"
      ]
     },
     "execution_count": 40,
     "metadata": {},
     "output_type": "execute_result"
    }
   ],
   "source": [
    "myfilter([12,13,23,17,19,16,22,24,26,28])"
   ]
  },
  {
   "cell_type": "code",
   "execution_count": 27,
   "metadata": {},
   "outputs": [
    {
     "name": "stdout",
     "output_type": "stream",
     "text": [
      "['x', 'xx', 'xxx', 'xxxx', 'y', 'yy', 'yyy', 'yyyy', 'z', 'zz', 'zzz', 'zzzz']\n"
     ]
    }
   ],
   "source": [
    "lst1  = ['x','y','z']\n",
    "result = [items*num for items in lst1 \n",
    "          for num in range(1,5)]\n",
    "print(str(result))"
   ]
  },
  {
   "cell_type": "code",
   "execution_count": 29,
   "metadata": {},
   "outputs": [
    {
     "name": "stdout",
     "output_type": "stream",
     "text": [
      "['x', 'y', 'z', 'xx', 'yy', 'zz', 'xxx', 'yyy', 'zzz', 'xxxx', 'yyyy', 'zzzz']\n"
     ]
    }
   ],
   "source": [
    "lst2 = ['x','y','z']\n",
    "result = [items*num for num in range(1,5)\n",
    "          for items in lst2]\n",
    "print(str(result))"
   ]
  },
  {
   "cell_type": "code",
   "execution_count": 20,
   "metadata": {},
   "outputs": [
    {
     "name": "stdout",
     "output_type": "stream",
     "text": [
      "[[2], [3], [4], [3], [4], [5], [4], [5], [6]][[2, 3, 4, 5], [3, 4, 5, 6], [4, 5, 6, 7], [5, 6, 7, 8]]\n"
     ]
    }
   ],
   "source": [
    "lst = [2,3,4]\n",
    "reslt = [[item+num]for item in lst\n",
    "         for num in range(0,3)]\n",
    "\n",
    "lst1 = [2,3,4,5]\n",
    "reslt1 = [[item+num for item in lst1]\n",
    "          for num in range (0,4)]\n",
    "print(str(result)+str(result1))"
   ]
  },
  {
   "cell_type": "code",
   "execution_count": 42,
   "metadata": {},
   "outputs": [
    {
     "name": "stdout",
     "output_type": "stream",
     "text": [
      "[(1, 1), (2, 1), (3, 1), (1, 2), (2, 2), (3, 2), (1, 3), (2, 3), (3, 3)]\n"
     ]
    }
   ],
   "source": [
    "lst = [1,2,3]\n",
    "reslt = [(b,a) for a in lst\n",
    "         for b in lst]\n",
    "print(str(reslt))"
   ]
  }
 ],
 "metadata": {
  "kernelspec": {
   "display_name": "Python 3",
   "language": "python",
   "name": "python3"
  },
  "language_info": {
   "codemirror_mode": {
    "name": "ipython",
    "version": 3
   },
   "file_extension": ".py",
   "mimetype": "text/x-python",
   "name": "python",
   "nbconvert_exporter": "python",
   "pygments_lexer": "ipython3",
   "version": "3.8.5"
  }
 },
 "nbformat": 4,
 "nbformat_minor": 4
}
