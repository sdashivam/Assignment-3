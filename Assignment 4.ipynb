{
 "cells": [
  {
   "cell_type": "markdown",
   "metadata": {},
   "source": [
    "1.1Python Program(with class concepts) to find the area of the triangle using the below\n",
    "formula.\n",
    "\n",
    "area = (s*(s-a)*(s-b)*(s-c)) ** 0.5\n",
    "\n",
    "to take the length of the sides of triangle from user should be defined in the parent\n",
    "class and function to calculate the area should be defined in subclass.\n",
    "\n",
    "1.2 Write a function filter_long_words() that takes a list of words and an integer n and returns\n",
    "the list of words that are longer than n.\n",
    "\n",
    "2.1 Write a Python program using function concept that maps list of words into a list of integers\n",
    "representing the lengths of the corresponding words.\n",
    "Hint: If a list [ ab,cde,erty] is passed on to the python function output should come as [2,3,4]\n",
    "Here 2,3 and 4 are the lengths of the words in the list.\n",
    "\n",
    "2.2 Write a Python function which takes a character (i.e. a string of length 1) and returns True if\n",
    "it is a vowel, False otherwise."
   ]
  },
  {
   "cell_type": "code",
   "execution_count": 1,
   "metadata": {},
   "outputs": [],
   "source": [
    "class Triangle:\n",
    "    def __init__(self):\n",
    "        number_of_sides=['a','b','c']\n",
    "        \n",
    "        self.TriangleSides=number_of_sides\n",
    "        \n",
    "    def sides_Of_Triangle(self):\n",
    "        self.sides_Of_Traingle=[input(\"Enter the Side \"+i+\" :\") for i in self.TriangleSides]\n",
    "        \n",
    "    \n",
    "class Traingle_Area(Triangle):\n",
    "    def __init__(self):\n",
    "        Triangle.__init__(self)\n",
    "        \n",
    "    def area_Of_Triangle(self):\n",
    "        triangleSides=iter(self.sides_Of_Traingle)\n",
    "        a=float(next(triangleSides))\n",
    "        b=float(next(triangleSides))\n",
    "        c=float(next(triangleSides))      \n",
    "        s= (a+b+c)*0.5        \n",
    "        Area = (s*(s-a)*(s-b)*(s-c))**0.5    \n",
    "        print(\"The sides of triangle are a=\"+str(a)+\", b=\"+str(b)+\", c=\"+str(c))     \n",
    "        Area = ('The Area of the triangle is %0.2f' %Area )\n",
    "        print(Area)"
   ]
  },
  {
   "cell_type": "code",
   "execution_count": 2,
   "metadata": {},
   "outputs": [],
   "source": [
    "Area_Of_Traingle = Traingle_Area()"
   ]
  },
  {
   "cell_type": "code",
   "execution_count": 3,
   "metadata": {},
   "outputs": [
    {
     "name": "stdout",
     "output_type": "stream",
     "text": [
      "Enter the Side a :10\n",
      "Enter the Side b :12\n",
      "Enter the Side c :11\n"
     ]
    }
   ],
   "source": [
    "Area_Of_Traingle.sides_Of_Triangle()"
   ]
  },
  {
   "cell_type": "code",
   "execution_count": 4,
   "metadata": {},
   "outputs": [
    {
     "name": "stdout",
     "output_type": "stream",
     "text": [
      "The sides of triangle are a=10.0, b=12.0, c=11.0\n",
      "The Area of the triangle is 51.52\n"
     ]
    }
   ],
   "source": [
    "Area_Of_Traingle.area_Of_Triangle()"
   ]
  },
  {
   "cell_type": "code",
   "execution_count": 14,
   "metadata": {},
   "outputs": [
    {
     "name": "stdout",
     "output_type": "stream",
     "text": [
      "input :\n",
      "enter your words :apple,banana,mango,orange,strawberry\n",
      "enter your numbers :5\n",
      "\n",
      " output:\n",
      "\n",
      " the list of longest word 5 is :\n"
     ]
    },
    {
     "data": {
      "text/plain": [
       "['banana', 'orange', 'strawberry']"
      ]
     },
     "execution_count": 14,
     "metadata": {},
     "output_type": "execute_result"
    }
   ],
   "source": [
    "def fiter_words(wordlist,n):\n",
    "    wordlist = [x.strip() for x in wordlist if len(x.strip())>n]\n",
    "    if(len(wordlist)>0):\n",
    "        print(\"\\n output:\")\n",
    "        print(\"\\n the list of longest word \" + str(n) + \" is :\")\n",
    "        return wordlist\n",
    "    else:\n",
    "        return \"no words longer than specified number\"+str(n)\n",
    "print(\"input :\")\n",
    "string = input(\"enter your words :\")\n",
    "number = int(input(\"enter your numbers :\"))\n",
    "\n",
    "lstofwords = list(string.split(\",\"))\n",
    "fiter_words(lstofwords,number)"
   ]
  },
  {
   "cell_type": "code",
   "execution_count": 17,
   "metadata": {},
   "outputs": [
    {
     "name": "stdout",
     "output_type": "stream",
     "text": [
      "enter words : data,is,the,fuel\n",
      "Lengths of the words : [4, 2, 3, 4]\n"
     ]
    }
   ],
   "source": [
    "def maps_word_length(List):\n",
    "    return list(map(len,List))\n",
    "word_List = list(input(\"enter words : \").split(\",\"))\n",
    "List = [x.strip() for x in word_List]\n",
    "words_length = maps_word_length(List)\n",
    "print(\"Lengths of the words :\", words_length)"
   ]
  },
  {
   "cell_type": "code",
   "execution_count": 33,
   "metadata": {},
   "outputs": [
    {
     "name": "stdout",
     "output_type": "stream",
     "text": [
      "Enter character to check \n",
      "Input Value: T\n",
      "Output Value: False\n"
     ]
    }
   ],
   "source": [
    "def vowel_checker(inputChar):\n",
    "    return_value=''\n",
    "    if(len(inputChar)==1):\n",
    "        vowel_list=['a','e','i','o','u']\n",
    "        if (inputChar.lower() in vowel_list):\n",
    "            return_value= True\n",
    "        else:\n",
    "            return_value= False\n",
    "    else:\n",
    "        return_value=\"enter single character only!\"        \n",
    "    return return_value\n",
    "\n",
    "print(\"Enter character to check \")\n",
    "input_value  = input(\"Input Value: \")\n",
    "output_value = vowel_checker(input_value) \n",
    "print(\"Output Value:\",output_value)"
   ]
  },
  {
   "cell_type": "code",
   "execution_count": null,
   "metadata": {},
   "outputs": [],
   "source": []
  }
 ],
 "metadata": {
  "kernelspec": {
   "display_name": "Python 3",
   "language": "python",
   "name": "python3"
  },
  "language_info": {
   "codemirror_mode": {
    "name": "ipython",
    "version": 3
   },
   "file_extension": ".py",
   "mimetype": "text/x-python",
   "name": "python",
   "nbconvert_exporter": "python",
   "pygments_lexer": "ipython3",
   "version": "3.8.5"
  }
 },
 "nbformat": 4,
 "nbformat_minor": 4
}
