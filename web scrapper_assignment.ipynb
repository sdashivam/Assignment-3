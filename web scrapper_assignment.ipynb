{
 "cells": [
  {
   "cell_type": "markdown",
   "metadata": {},
   "source": [
    "## in this assignment project im going to scrape the book informations from the website(demo) https://books.toscrape.com/"
   ]
  },
  {
   "cell_type": "code",
   "execution_count": 5,
   "metadata": {},
   "outputs": [],
   "source": [
    "import logging\n",
    "import requests\n",
    "import json\n",
    "from bs4 import BeautifulSoup\n",
    "import html5lib\n",
    "\n",
    "##this function will parse the url using BeautifulSoup\n",
    "\n",
    "def parse_url(url):     \n",
    "    response = requests.get(url)\n",
    "    content = response.content     \n",
    "    parsed_response = BeautifulSoup(content, \"html5lib\")\n",
    "    parsed_response.prettify()\n",
    "    return parsed_response"
   ]
  },
  {
   "cell_type": "code",
   "execution_count": 9,
   "metadata": {},
   "outputs": [],
   "source": [
    "## this function will scrape all the deatils related to the book such as price, title, stock availability, images, and the rating\n",
    "\n",
    "def Extract_Books_Details(url):\n",
    "    try:\n",
    "        soup_book = parse_url(url)\n",
    "        Books_Details = []\n",
    "        for books in soup_book.find_all(\"li\",attrs = {\"class\":\"col-xs-6 col-sm-4 col-md-3 col-lg-3\"}):\n",
    "            Book = {}\n",
    "            Book[\"Book_price\"] = books.find(\"p\", attrs={\"class\":\"price_color\"}).get_text()\n",
    "            Book[\"Book_title\"] = books.find(\"h3\").get_text()\n",
    "            Book[\"Book_Stock_Avail\"] = \" \".join(books.find(\"p\", attrs = {\"class\":\"instock availability\"}).get_text().split())\n",
    "            Book[\"Book_images\"] = books.find(\"img\",attrs ={\"class\":\"thumbnail\"}).get('src')\n",
    "            Book[\"Book_Rating\"] = books.find(\"p\", attrs ={\"class\":\"star-rating\"}).get(\"class\")[1]\n",
    "            Books_Details.append(Book)\n",
    "        return Books_Details\n",
    "    except Exception as e:\n",
    "        f = open(\"logging.txt\", \"a\")\n",
    "        f.write(str(e))\n",
    "        f.close() "
   ]
  },
  {
   "cell_type": "code",
   "execution_count": 10,
   "metadata": {},
   "outputs": [
    {
     "name": "stdout",
     "output_type": "stream",
     "text": [
      "[{'Book_price': '£38.20', 'Book_title': 'Whole Lotta Creativity Going ...', 'Book_Stock_Avail': 'In stock', 'Book_images': '../media/cache/ba/36/ba368dfb2b6ae9979ff59d049c626167.jpg', 'Book_Rating': 'Four'}, {'Book_price': '£19.60', 'Book_title': \"What's It Like in ...\", 'Book_Stock_Avail': 'In stock', 'Book_images': '../media/cache/43/b7/43b70859e93901b019791cef86539ffc.jpg', 'Book_Rating': 'Two'}, {'Book_price': '£53.90', 'Book_title': 'We Are Robin, Vol. ...', 'Book_Stock_Avail': 'In stock', 'Book_images': '../media/cache/66/d6/66d6d2b4c0acfa8f40ad0285186ed2d8.jpg', 'Book_Rating': 'One'}, {'Book_price': '£12.96', 'Book_title': \"Walt Disney's Alice in ...\", 'Book_Stock_Avail': 'In stock', 'Book_images': '../media/cache/28/50/2850439c2ba103fb69dba9cd2dd9f0c2.jpg', 'Book_Rating': 'Five'}, {'Book_price': '£37.10', 'Book_title': 'V for Vendetta (V ...', 'Book_Stock_Avail': 'In stock', 'Book_images': '../media/cache/cc/8f/cc8fb914bfee31a7903a5cabaae64796.jpg', 'Book_Rating': 'Four'}, {'Book_price': '£46.31', 'Book_title': 'Until Friday Night (The ...', 'Book_Stock_Avail': 'In stock', 'Book_images': '../media/cache/19/cf/19cf50aea5bf0e8f4bc016f3745b3dfe.jpg', 'Book_Rating': 'Two'}, {'Book_price': '£45.95', 'Book_title': 'Unbroken: A World War ...', 'Book_Stock_Avail': 'In stock', 'Book_images': '../media/cache/74/cd/74cd3f345b50452c3be6631669f13aa8.jpg', 'Book_Rating': 'Two'}, {'Book_price': '£22.08', 'Book_title': 'Twenty Yawns', 'Book_Stock_Avail': 'In stock', 'Book_images': '../media/cache/2b/38/2b380f77723c797c0389f978afa6db58.jpg', 'Book_Rating': 'Two'}, {'Book_price': '£25.38', 'Book_title': 'Through the Woods', 'Book_Stock_Avail': 'In stock', 'Book_images': '../media/cache/4c/af/4caf8f2a5ee8828d408cc8faadd3419c.jpg', 'Book_Rating': 'Two'}, {'Book_price': '£27.12', 'Book_title': 'This Is Where It ...', 'Book_Stock_Avail': 'In stock', 'Book_images': '../media/cache/18/0b/180bfe1902cb3c0eb77d7c712efa2a96.jpg', 'Book_Rating': 'Two'}, {'Book_price': '£43.04', 'Book_title': 'The Year of Magical ...', 'Book_Stock_Avail': 'In stock', 'Book_images': '../media/cache/bf/e5/bfe526c22c7c08235c27a6474ebb4db9.jpg', 'Book_Rating': 'Two'}, {'Book_price': '£56.80', 'Book_title': 'The Wright Brothers', 'Book_Stock_Avail': 'In stock', 'Book_images': '../media/cache/02/2e/022e8b81ba1405991401bb46d6330c73.jpg', 'Book_Rating': 'Four'}, {'Book_price': '£25.91', 'Book_title': 'The White Queen (The ...', 'Book_Stock_Avail': 'In stock', 'Book_images': '../media/cache/72/d8/72d861617b6d3aababe6e61e8d3c1056.jpg', 'Book_Rating': 'Five'}, {'Book_price': '£32.61', 'Book_title': 'The Wedding Pact (The ...', 'Book_Stock_Avail': 'In stock', 'Book_images': '../media/cache/7e/67/7e67addd80caaf8a9f9e9daa9cf66bb2.jpg', 'Book_Rating': 'Three'}, {'Book_price': '£27.88', 'Book_title': 'The Time Keeper', 'Book_Stock_Avail': 'In stock', 'Book_images': '../media/cache/8f/f8/8ff8680dde59ea739d6978a01e4d7fe5.jpg', 'Book_Rating': 'Five'}, {'Book_price': '£52.67', 'Book_title': 'The Testament of Mary', 'Book_Stock_Avail': 'In stock', 'Book_images': '../media/cache/83/05/8305154438c91a02cefacf4ec8b53393.jpg', 'Book_Rating': 'Four'}, {'Book_price': '£46.02', 'Book_title': 'The Star-Touched Queen', 'Book_Stock_Avail': 'In stock', 'Book_images': '../media/cache/53/5e/535e2be0b423797c2cdc7d98882c820a.jpg', 'Book_Rating': 'Five'}, {'Book_price': '£44.48', 'Book_title': 'The Songs of the ...', 'Book_Stock_Avail': 'In stock', 'Book_images': '../media/cache/6c/a3/6ca34db7c01e554ad17bd3be74b561e3.jpg', 'Book_Rating': 'Five'}, {'Book_price': '£37.40', 'Book_title': 'The Song of Achilles', 'Book_Stock_Avail': 'In stock', 'Book_images': '../media/cache/66/f7/66f79b76d6c6b64fcc8110515c454e09.jpg', 'Book_Rating': 'Five'}, {'Book_price': '£54.04', 'Book_title': 'The Rosie Project (Don ...', 'Book_Stock_Avail': 'In stock', 'Book_images': '../media/cache/f0/db/f0db1cf76d45f0522d4c8c3c39aa0dd8.jpg', 'Book_Rating': 'One'}]\n"
     ]
    }
   ],
   "source": [
    "## here we are going to provide the url of the website and priniting the output in the console\n",
    "\n",
    "extract = Extract_Books_Details(\"https://books.toscrape.com/catalogue/page-12.html\")\n",
    "print(extract)"
   ]
  },
  {
   "cell_type": "code",
   "execution_count": 11,
   "metadata": {},
   "outputs": [],
   "source": [
    "## here we are saving all the extracted data in the form of .json file\n",
    "books_jsn = json.dumps(extract, indent = 5)\n",
    "with open(\"Books_Details.json\", \"w\") as outfile:\n",
    "    outfile.write(books_jsn)"
   ]
  },
  {
   "cell_type": "code",
   "execution_count": null,
   "metadata": {},
   "outputs": [],
   "source": []
  },
  {
   "cell_type": "code",
   "execution_count": null,
   "metadata": {},
   "outputs": [],
   "source": []
  },
  {
   "cell_type": "code",
   "execution_count": null,
   "metadata": {},
   "outputs": [],
   "source": []
  },
  {
   "cell_type": "code",
   "execution_count": null,
   "metadata": {},
   "outputs": [],
   "source": []
  },
  {
   "cell_type": "code",
   "execution_count": null,
   "metadata": {},
   "outputs": [],
   "source": []
  },
  {
   "cell_type": "code",
   "execution_count": null,
   "metadata": {},
   "outputs": [],
   "source": []
  },
  {
   "cell_type": "code",
   "execution_count": null,
   "metadata": {},
   "outputs": [],
   "source": []
  },
  {
   "cell_type": "code",
   "execution_count": null,
   "metadata": {},
   "outputs": [],
   "source": []
  },
  {
   "cell_type": "code",
   "execution_count": null,
   "metadata": {},
   "outputs": [],
   "source": []
  },
  {
   "cell_type": "code",
   "execution_count": null,
   "metadata": {},
   "outputs": [],
   "source": []
  },
  {
   "cell_type": "code",
   "execution_count": null,
   "metadata": {},
   "outputs": [],
   "source": []
  },
  {
   "cell_type": "code",
   "execution_count": null,
   "metadata": {},
   "outputs": [],
   "source": []
  },
  {
   "cell_type": "code",
   "execution_count": null,
   "metadata": {},
   "outputs": [],
   "source": []
  },
  {
   "cell_type": "code",
   "execution_count": null,
   "metadata": {},
   "outputs": [],
   "source": []
  },
  {
   "cell_type": "code",
   "execution_count": null,
   "metadata": {},
   "outputs": [],
   "source": []
  },
  {
   "cell_type": "code",
   "execution_count": null,
   "metadata": {},
   "outputs": [],
   "source": []
  },
  {
   "cell_type": "code",
   "execution_count": null,
   "metadata": {},
   "outputs": [],
   "source": []
  },
  {
   "cell_type": "code",
   "execution_count": null,
   "metadata": {},
   "outputs": [],
   "source": []
  },
  {
   "cell_type": "code",
   "execution_count": null,
   "metadata": {},
   "outputs": [],
   "source": []
  },
  {
   "cell_type": "code",
   "execution_count": null,
   "metadata": {},
   "outputs": [],
   "source": []
  },
  {
   "cell_type": "code",
   "execution_count": null,
   "metadata": {},
   "outputs": [],
   "source": []
  }
 ],
 "metadata": {
  "kernelspec": {
   "display_name": "Python 3",
   "language": "python",
   "name": "python3"
  },
  "language_info": {
   "codemirror_mode": {
    "name": "ipython",
    "version": 3
   },
   "file_extension": ".py",
   "mimetype": "text/x-python",
   "name": "python",
   "nbconvert_exporter": "python",
   "pygments_lexer": "ipython3",
   "version": "3.8.5"
  }
 },
 "nbformat": 4,
 "nbformat_minor": 4
}
